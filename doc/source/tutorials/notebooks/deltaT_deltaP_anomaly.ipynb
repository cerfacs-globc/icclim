{
 "cells": [
  {
   "cell_type": "markdown",
   "metadata": {},
   "source": [
    "# Calculate averaged surface temperature and precipitation anomalies\n",
    "\n",
    "Goals:\n",
    "- Compute the averaged surface temperature anomaly and the same for precipitation anomaly over the period 2081-2100 compared to the period 1981-2000\n",
    "- Display delta-T delta-P diagram"
   ]
  },
  {
   "cell_type": "markdown",
   "metadata": {},
   "source": [
    "The example calculates the averaged temperature anomaly (using the **TG**) indicator) vs the precipitation anomaly (using the **PRCPTOT** indicator) for the period 2081-2100 compared to the reference 1981-2000 for SSP 585 and several climate models.\n",
    "\n",
    "We assume to have the **tas** and the **pr** variables in netCDF files in a `./data` folder.\n",
    "The data can be dowloaded using the [metalink](data/cmcc_gfdl_pr_and_tas.metalink) provided with this notebook.\n",
    "The data described in a `.metalink` file can be dowloaded with tools such as [aria2](https://aria2.github.io/) or a browser plugin such as [DownThemAll!](https://addons.mozilla.org/en-US/firefox/addon/downthemall/)\n",
    "If you wish to use a different dataset, you can use the [climate 4 impact portal](https://www.climate4impact.eu/c4i-frontend/) to search and select the data you wish to use and a metalink file to the [ESGF](https://esgf.llnl.gov/) data will be provided.\n",
    "\n",
    "\n",
    "The data is read using xarray and a plot of the a deltaT-deltaP diagram with data averaged over Europe is generated.\n",
    "\n",
    "The datasets that are expected for this notebook are tas and pr parameters (needed to calculate the TG and PRCPTOT indicators respectively) for several climate models, for the historical (1981-2000) and future (2081-2100) SSP 585 experiment and for several climate models and one member. Daily data is used. In C4I, you can find all of the data needed in the CMIP6 project, at the **esgf-data3.ceda.ac.uk** and **esgf.nci.org.au** mirrors.\n",
    "\n",
    "### Preparation of the modules"
   ]
  },
  {
   "cell_type": "code",
   "execution_count": 1,
   "metadata": {},
   "outputs": [
    {
     "name": "stdout",
     "output_type": "stream",
     "text": [
      "Requirement already satisfied: icclim in /home/bzah/micromamba/envs/icclim-dev/lib/python3.11/site-packages (6.6.0)\n",
      "Requirement already satisfied: matplotlib in /home/bzah/micromamba/envs/icclim-dev/lib/python3.11/site-packages (3.8.2)\n",
      "Requirement already satisfied: nc_time_axis in /home/bzah/micromamba/envs/icclim-dev/lib/python3.11/site-packages (1.4.1)\n",
      "Requirement already satisfied: numpy>=1.16 in /home/bzah/micromamba/envs/icclim-dev/lib/python3.11/site-packages (from icclim) (1.26.2)\n",
      "Requirement already satisfied: xarray>=2022.6 in /home/bzah/micromamba/envs/icclim-dev/lib/python3.11/site-packages (from icclim) (2023.10.1)\n",
      "Requirement already satisfied: xclim<=0.47,>=0.45 in /home/bzah/micromamba/envs/icclim-dev/lib/python3.11/site-packages (from icclim) (0.47.0)\n",
      "Requirement already satisfied: cf_xarray>=0.7.4 in /home/bzah/micromamba/envs/icclim-dev/lib/python3.11/site-packages (from icclim) (0.8.6)\n",
      "Requirement already satisfied: cftime>=1.4.1 in /home/bzah/micromamba/envs/icclim-dev/lib/python3.11/site-packages (from icclim) (1.6.3)\n",
      "Requirement already satisfied: dask[array] in /home/bzah/micromamba/envs/icclim-dev/lib/python3.11/site-packages (from icclim) (2023.12.1)\n",
      "Requirement already satisfied: netCDF4>=1.5.7 in /home/bzah/micromamba/envs/icclim-dev/lib/python3.11/site-packages (from icclim) (1.6.5)\n",
      "Requirement already satisfied: psutil in /home/bzah/micromamba/envs/icclim-dev/lib/python3.11/site-packages (from icclim) (5.9.7)\n",
      "Requirement already satisfied: zarr in /home/bzah/micromamba/envs/icclim-dev/lib/python3.11/site-packages (from icclim) (2.16.1)\n",
      "Requirement already satisfied: rechunker!=0.4,>=0.3 in /home/bzah/micromamba/envs/icclim-dev/lib/python3.11/site-packages (from icclim) (0.5.2)\n",
      "Requirement already satisfied: fsspec in /home/bzah/micromamba/envs/icclim-dev/lib/python3.11/site-packages (from icclim) (2023.12.2)\n",
      "Requirement already satisfied: pandas>=1.3 in /home/bzah/micromamba/envs/icclim-dev/lib/python3.11/site-packages (from icclim) (2.1.4)\n",
      "Requirement already satisfied: dateparser in /home/bzah/micromamba/envs/icclim-dev/lib/python3.11/site-packages (from icclim) (1.2.0)\n",
      "Requirement already satisfied: pint in /home/bzah/micromamba/envs/icclim-dev/lib/python3.11/site-packages (from icclim) (0.19.2)\n",
      "Requirement already satisfied: jinja2 in /home/bzah/micromamba/envs/icclim-dev/lib/python3.11/site-packages (from icclim) (3.1.2)\n",
      "Requirement already satisfied: contourpy>=1.0.1 in /home/bzah/micromamba/envs/icclim-dev/lib/python3.11/site-packages (from matplotlib) (1.2.0)\n",
      "Requirement already satisfied: cycler>=0.10 in /home/bzah/micromamba/envs/icclim-dev/lib/python3.11/site-packages (from matplotlib) (0.12.1)\n",
      "Requirement already satisfied: fonttools>=4.22.0 in /home/bzah/micromamba/envs/icclim-dev/lib/python3.11/site-packages (from matplotlib) (4.46.0)\n",
      "Requirement already satisfied: kiwisolver>=1.3.1 in /home/bzah/micromamba/envs/icclim-dev/lib/python3.11/site-packages (from matplotlib) (1.4.5)\n",
      "Requirement already satisfied: packaging>=20.0 in /home/bzah/micromamba/envs/icclim-dev/lib/python3.11/site-packages (from matplotlib) (23.2)\n",
      "Requirement already satisfied: pillow>=8 in /home/bzah/micromamba/envs/icclim-dev/lib/python3.11/site-packages (from matplotlib) (10.1.0)\n",
      "Requirement already satisfied: pyparsing>=2.3.1 in /home/bzah/micromamba/envs/icclim-dev/lib/python3.11/site-packages (from matplotlib) (3.1.1)\n",
      "Requirement already satisfied: python-dateutil>=2.7 in /home/bzah/micromamba/envs/icclim-dev/lib/python3.11/site-packages (from matplotlib) (2.8.2)\n",
      "Requirement already satisfied: certifi in /home/bzah/micromamba/envs/icclim-dev/lib/python3.11/site-packages (from netCDF4>=1.5.7->icclim) (2023.11.17)\n",
      "Requirement already satisfied: pytz>=2020.1 in /home/bzah/micromamba/envs/icclim-dev/lib/python3.11/site-packages (from pandas>=1.3->icclim) (2023.3.post1)\n",
      "Requirement already satisfied: tzdata>=2022.1 in /home/bzah/micromamba/envs/icclim-dev/lib/python3.11/site-packages (from pandas>=1.3->icclim) (2023.3)\n",
      "Requirement already satisfied: six>=1.5 in /home/bzah/micromamba/envs/icclim-dev/lib/python3.11/site-packages (from python-dateutil>=2.7->matplotlib) (1.16.0)\n",
      "Requirement already satisfied: mypy-extensions in /home/bzah/micromamba/envs/icclim-dev/lib/python3.11/site-packages (from rechunker!=0.4,>=0.3->icclim) (1.0.0)\n",
      "Requirement already satisfied: boltons>=20.1 in /home/bzah/micromamba/envs/icclim-dev/lib/python3.11/site-packages (from xclim<=0.47,>=0.45->icclim) (23.0.0)\n",
      "Requirement already satisfied: bottleneck>=1.3.1 in /home/bzah/micromamba/envs/icclim-dev/lib/python3.11/site-packages (from xclim<=0.47,>=0.45->icclim) (1.3.7)\n",
      "Requirement already satisfied: Click>=8.1 in /home/bzah/micromamba/envs/icclim-dev/lib/python3.11/site-packages (from xclim<=0.47,>=0.45->icclim) (8.1.7)\n",
      "Requirement already satisfied: jsonpickle in /home/bzah/micromamba/envs/icclim-dev/lib/python3.11/site-packages (from xclim<=0.47,>=0.45->icclim) (3.0.2)\n",
      "Requirement already satisfied: lmoments3>=1.0.5 in /home/bzah/micromamba/envs/icclim-dev/lib/python3.11/site-packages (from xclim<=0.47,>=0.45->icclim) (1.0.6)\n",
      "Requirement already satisfied: numba in /home/bzah/micromamba/envs/icclim-dev/lib/python3.11/site-packages (from xclim<=0.47,>=0.45->icclim) (0.58.1)\n",
      "Requirement already satisfied: pyyaml in /home/bzah/micromamba/envs/icclim-dev/lib/python3.11/site-packages (from xclim<=0.47,>=0.45->icclim) (6.0.1)\n",
      "Requirement already satisfied: scikit-learn>=0.21.3 in /home/bzah/micromamba/envs/icclim-dev/lib/python3.11/site-packages (from xclim<=0.47,>=0.45->icclim) (1.3.2)\n",
      "Requirement already satisfied: scipy>=1.2 in /home/bzah/micromamba/envs/icclim-dev/lib/python3.11/site-packages (from xclim<=0.47,>=0.45->icclim) (1.11.4)\n",
      "Requirement already satisfied: statsmodels in /home/bzah/micromamba/envs/icclim-dev/lib/python3.11/site-packages (from xclim<=0.47,>=0.45->icclim) (0.14.1)\n",
      "Requirement already satisfied: cloudpickle>=1.5.0 in /home/bzah/micromamba/envs/icclim-dev/lib/python3.11/site-packages (from dask[array]->icclim) (3.0.0)\n",
      "Requirement already satisfied: partd>=1.2.0 in /home/bzah/micromamba/envs/icclim-dev/lib/python3.11/site-packages (from dask[array]->icclim) (1.4.1)\n",
      "Requirement already satisfied: toolz>=0.10.0 in /home/bzah/micromamba/envs/icclim-dev/lib/python3.11/site-packages (from dask[array]->icclim) (0.12.0)\n",
      "Requirement already satisfied: importlib-metadata>=4.13.0 in /home/bzah/micromamba/envs/icclim-dev/lib/python3.11/site-packages (from dask[array]->icclim) (7.0.0)\n",
      "Requirement already satisfied: asciitree in /home/bzah/micromamba/envs/icclim-dev/lib/python3.11/site-packages (from zarr->icclim) (0.3.3)\n",
      "Requirement already satisfied: fasteners in /home/bzah/micromamba/envs/icclim-dev/lib/python3.11/site-packages (from zarr->icclim) (0.17.3)\n",
      "Requirement already satisfied: numcodecs>=0.10.0 in /home/bzah/micromamba/envs/icclim-dev/lib/python3.11/site-packages (from zarr->icclim) (0.12.1)\n",
      "Requirement already satisfied: regex!=2019.02.19,!=2021.8.27 in /home/bzah/micromamba/envs/icclim-dev/lib/python3.11/site-packages (from dateparser->icclim) (2023.10.3)\n",
      "Requirement already satisfied: tzlocal in /home/bzah/micromamba/envs/icclim-dev/lib/python3.11/site-packages (from dateparser->icclim) (5.2)\n",
      "Requirement already satisfied: MarkupSafe>=2.0 in /home/bzah/micromamba/envs/icclim-dev/lib/python3.11/site-packages (from jinja2->icclim) (2.1.3)\n",
      "Requirement already satisfied: zipp>=0.5 in /home/bzah/micromamba/envs/icclim-dev/lib/python3.11/site-packages (from importlib-metadata>=4.13.0->dask[array]->icclim) (3.17.0)\n",
      "Requirement already satisfied: locket in /home/bzah/micromamba/envs/icclim-dev/lib/python3.11/site-packages (from partd>=1.2.0->dask[array]->icclim) (1.0.0)\n",
      "Requirement already satisfied: joblib>=1.1.1 in /home/bzah/micromamba/envs/icclim-dev/lib/python3.11/site-packages (from scikit-learn>=0.21.3->xclim<=0.47,>=0.45->icclim) (1.3.2)\n",
      "Requirement already satisfied: threadpoolctl>=2.0.0 in /home/bzah/micromamba/envs/icclim-dev/lib/python3.11/site-packages (from scikit-learn>=0.21.3->xclim<=0.47,>=0.45->icclim) (3.2.0)\n",
      "Requirement already satisfied: bokeh>=2.4.2 in /home/bzah/micromamba/envs/icclim-dev/lib/python3.11/site-packages (from dask[array,diagnostics]->rechunker!=0.4,>=0.3->icclim) (3.3.2)\n",
      "Requirement already satisfied: llvmlite<0.42,>=0.41.0dev0 in /home/bzah/micromamba/envs/icclim-dev/lib/python3.11/site-packages (from numba->xclim<=0.47,>=0.45->icclim) (0.41.1)\n",
      "Requirement already satisfied: patsy>=0.5.4 in /home/bzah/micromamba/envs/icclim-dev/lib/python3.11/site-packages (from statsmodels->xclim<=0.47,>=0.45->icclim) (0.5.4)\n",
      "Requirement already satisfied: tornado>=5.1 in /home/bzah/micromamba/envs/icclim-dev/lib/python3.11/site-packages (from bokeh>=2.4.2->dask[array,diagnostics]->rechunker!=0.4,>=0.3->icclim) (6.3.3)\n",
      "Requirement already satisfied: xyzservices>=2021.09.1 in /home/bzah/micromamba/envs/icclim-dev/lib/python3.11/site-packages (from bokeh>=2.4.2->dask[array,diagnostics]->rechunker!=0.4,>=0.3->icclim) (2023.10.1)\n",
      "Note: you may need to restart the kernel to use updated packages.\n"
     ]
    }
   ],
   "source": [
    "%pip install icclim matplotlib nc_time_axis"
   ]
  },
  {
   "cell_type": "code",
   "execution_count": 3,
   "metadata": {},
   "outputs": [
    {
     "name": "stdout",
     "output_type": "stream",
     "text": [
      "python:  3.11.7 | packaged by conda-forge | (main, Dec 15 2023, 08:38:37) [GCC 12.3.0]\n",
      "numpy:  1.26.2\n",
      "xarray:  2023.10.1\n",
      "pandas:  2.1.4\n",
      "icclim:  6.6.0\n",
      "cftime:  1.6.3\n"
     ]
    }
   ],
   "source": [
    "import datetime\n",
    "import sys\n",
    "from pathlib import Path\n",
    "\n",
    "import cftime\n",
    "import icclim\n",
    "import matplotlib.pyplot as plt\n",
    "import numpy as np\n",
    "import pandas as pd\n",
    "import xarray as xr\n",
    "\n",
    "print(\"python: \", sys.version)\n",
    "print(\"numpy: \", np.__version__)\n",
    "print(\"xarray: \", xr.__version__)\n",
    "print(\"pandas: \", pd.__version__)\n",
    "print(\"icclim: \", icclim.__version__)\n",
    "print(\"cftime: \", cftime.__version__)"
   ]
  },
  {
   "cell_type": "markdown",
   "metadata": {},
   "source": [
    "### Parameters Setup  \n",
    "The time period of interest as well as the reference period are defined here.\n",
    "A list of models is listed here as an example.\n",
    "Here we used Monthly data (Amon) but daily data could also be used.\n",
    "The corresponding datafiles must have been selected by the user, containing both the studied and referenced periods."
   ]
  },
  {
   "cell_type": "code",
   "execution_count": 6,
   "metadata": {},
   "outputs": [],
   "source": [
    "# studied period\n",
    "yearb = 2081\n",
    "yeare = 2100\n",
    "dt1 = datetime.datetime(yearb, 1, 1, tzinfo=datetime.timezone.utc)\n",
    "dt2 = datetime.datetime(yeare, 12, 31, tzinfo=datetime.timezone.utc)\n",
    "\n",
    "# reference period\n",
    "yearrefb = 1981\n",
    "yearrefe = 2000\n",
    "dtr1 = datetime.datetime(yearrefb, 1, 1, tzinfo=datetime.timezone.utc)\n",
    "dtr2 = datetime.datetime(yearrefe, 12, 31, tzinfo=datetime.timezone.utc)\n",
    "\n",
    "# studied domain\n",
    "# Western Europe\n",
    "minlat = 30\n",
    "maxlat = 56\n",
    "minlon = -30\n",
    "maxlon = 30\n",
    "\n",
    "models = [\"CMCC-ESM2\", \"GFDL-ESM4\"]\n",
    "out_f = {}\n",
    "out_hist_f = {}\n",
    "out_f_pr = {}\n",
    "out_hist_f_pr = {}\n",
    "for model in models:\n",
    "    out_f[model] = f\"data/dtdp_tg_icclim_{model}.nc\"\n",
    "    out_hist_f[model] = f\"data/dtdp_tg_icclim_{model}_hist.nc\"\n",
    "    out_f_pr[model] = f\"data/dtdp_pr_icclim_{model}.nc\"\n",
    "    out_hist_f_pr[model] = f\"data/dtdp_pr_icclim_{model}_hist.nc\"\n",
    "    data_dir = Path(\"data\")\n",
    "    filenames_hist = data_dir.glob(f\"tas_day_{model}_historical_*.nc\")\n",
    "    filenames_585 = data_dir.glob(f\"tas_day_{model}_ssp585_*.nc\")\n",
    "    filenames_hist_pr = data_dir.glob(f\"pr_day_{model}_historical_*.nc\")\n",
    "    filenames_585_pr = data_dir.glob(f\"pr_day_{model}_ssp585_*.nc\")"
   ]
  },
  {
   "cell_type": "markdown",
   "metadata": {},
   "source": [
    "icclim is then executed for both periods for each climate model separately."
   ]
  },
  {
   "cell_type": "code",
   "execution_count": null,
   "metadata": {},
   "outputs": [],
   "source": [
    "for model in models:\n",
    "    icclim.index(\n",
    "        index_name=\"TG\",\n",
    "        in_files=[str(f) for f in filenames_585],\n",
    "        var_name=\"tas\",\n",
    "        slice_mode=\"year\",\n",
    "        time_range=[dt1, dt2],\n",
    "        out_file=out_f[model],\n",
    "        logs_verbosity=\"LOW\",\n",
    "    )\n",
    "    icclim.index(\n",
    "        index_name=\"TG\",\n",
    "        in_files=[str(f) for f in filenames_hist],\n",
    "        var_name=\"tas\",\n",
    "        slice_mode=\"year\",\n",
    "        time_range=[dtr1, dtr2],\n",
    "        out_file=out_hist_f[model],\n",
    "        logs_verbosity=\"LOW\",\n",
    "    )\n",
    "    icclim.index(\n",
    "        index_name=\"PRCPTOT\",\n",
    "        in_files=[str(f) for f in filenames_585_pr],\n",
    "        var_name=\"pr\",\n",
    "        slice_mode=\"year\",\n",
    "        time_range=[dt1, dt2],\n",
    "        out_file=out_f_pr[model],\n",
    "        logs_verbosity=\"LOW\",\n",
    "    )\n",
    "    icclim.index(\n",
    "        index_name=\"PRCPTOT\",\n",
    "        in_files=[str(f) for f in filenames_hist_pr],\n",
    "        var_name=\"pr\",\n",
    "        slice_mode=\"year\",\n",
    "        time_range=[dtr1, dtr2],\n",
    "        out_file=out_hist_f_pr[model],\n",
    "        logs_verbosity=\"LOW\",\n",
    "    )\n",
    "\n",
    "print(\"Processing finished.\")"
   ]
  },
  {
   "cell_type": "markdown",
   "metadata": {},
   "source": [
    "### Data preparation\n",
    "\n",
    "Here all data is loaded in 2 separate variables, one containing all the historical periods for all the models, and the same for the future time period.\n",
    "\n",
    "Extract geographical domain and deal with longitudes"
   ]
  },
  {
   "cell_type": "code",
   "execution_count": 8,
   "metadata": {},
   "outputs": [],
   "source": [
    "# Open datasets\n",
    "tg = []\n",
    "tg_hist = []\n",
    "pr = []\n",
    "pr_hist = []\n",
    "for model in models:\n",
    "    dsl = xr.open_dataset(out_f[model], decode_times=False)\n",
    "    dsl[\"time\"] = xr.decode_cf(dsl).time\n",
    "    dsl = dsl.assign_coords({\"model_id\": model})\n",
    "\n",
    "    dslp = xr.open_dataset(out_f_pr[model], decode_times=False)\n",
    "    dslp[\"time\"] = xr.decode_cf(dslp).time\n",
    "    dslp = dslp.assign_coords({\"model_id\": model})\n",
    "\n",
    "    dshl = xr.open_dataset(out_hist_f[model], decode_times=False)\n",
    "    dshl[\"time\"] = xr.decode_cf(dshl).time\n",
    "    dshl = dshl.assign_coords({\"model_id\": model})\n",
    "\n",
    "    dshlp = xr.open_dataset(out_hist_f_pr[model], decode_times=False)\n",
    "    dshlp[\"time\"] = xr.decode_cf(dshlp).time\n",
    "    dshlp = dshlp.assign_coords({\"model_id\": model})\n",
    "\n",
    "    # Reorder longitudes if needed and extract domain\n",
    "    if minlon > maxlon or minlon < 0:\n",
    "        dsl = dsl.assign_coords(lon=(((dsl.lon + 180) % 360) - 180)).roll(\n",
    "            lon=(dsl.dims[\"lon\"] // 2), roll_coords=True\n",
    "        )\n",
    "        dslp = dslp.assign_coords(lon=(((dslp.lon + 180) % 360) - 180)).roll(\n",
    "            lon=(dslp.dims[\"lon\"] // 2), roll_coords=True\n",
    "        )\n",
    "        dshl = dshl.assign_coords(lon=(((dshl.lon + 180) % 360) - 180)).roll(\n",
    "            lon=(dshl.dims[\"lon\"] // 2), roll_coords=True\n",
    "        )\n",
    "        dshlp = dshlp.assign_coords(lon=(((dshlp.lon + 180) % 360) - 180)).roll(\n",
    "            lon=(dshlp.dims[\"lon\"] // 2), roll_coords=True\n",
    "        )\n",
    "\n",
    "        if minlon >= 180:\n",
    "            minlon = minlon - 360\n",
    "        if maxlon >= 180:\n",
    "            maxlon = maxlon - 360\n",
    "\n",
    "    dsl = dsl.sel(lon=slice(minlon, maxlon), lat=slice(minlat, maxlat))\n",
    "    dslp = dslp.sel(lon=slice(minlon, maxlon), lat=slice(minlat, maxlat))\n",
    "    dshl = dshl.sel(lon=slice(minlon, maxlon), lat=slice(minlat, maxlat))\n",
    "    dshlp = dshlp.sel(lon=slice(minlon, maxlon), lat=slice(minlat, maxlat))\n",
    "\n",
    "    tg.append(dsl[\"TG\"])\n",
    "    pr.append(dslp[\"PRCPTOT\"])\n",
    "    tg_hist.append(dshl[\"TG\"])\n",
    "    pr_hist.append(dshlp[\"PRCPTOT\"])"
   ]
  },
  {
   "cell_type": "markdown",
   "metadata": {},
   "source": [
    "### Perform spatial average on the extracted geographical domain"
   ]
  },
  {
   "cell_type": "code",
   "execution_count": 9,
   "metadata": {},
   "outputs": [],
   "source": [
    "# Average different grids\n",
    "for ii in range(len(tg)):\n",
    "    tg[ii] = tg[ii].mean(dim=[\"lon\", \"lat\"])\n",
    "for ii in range(len(pr)):\n",
    "    pr[ii] = pr[ii].mean(dim=[\"lon\", \"lat\"])\n",
    "for ii in range(len(tg_hist)):\n",
    "    tg_hist[ii] = tg_hist[ii].mean(dim=[\"lon\", \"lat\"])\n",
    "for ii in range(len(pr_hist)):\n",
    "    pr_hist[ii] = pr_hist[ii].mean(dim=[\"lon\", \"lat\"])"
   ]
  },
  {
   "cell_type": "markdown",
   "metadata": {
    "tags": []
   },
   "source": [
    "### Define a function to align all different calendar types"
   ]
  },
  {
   "cell_type": "code",
   "execution_count": 10,
   "metadata": {},
   "outputs": [],
   "source": [
    "# Define function to align different calendars using annual data\n",
    "def to_pandas_dt(da):\n",
    "    \"\"\"Takes an annual DataArray. Change the calendar to a pandas datetime.\"\"\"\n",
    "    val = da.copy()\n",
    "    # val.resample(time='Y').mean('time')\n",
    "    timev = []\n",
    "    years = [int(val) for val in da.time.dt.strftime(\"%Y\")]\n",
    "    for itime in range(val.sizes[\"time\"]):\n",
    "        timev.append(years[itime])\n",
    "\n",
    "    timevp = pd.to_datetime(timev, format=\"%Y\")\n",
    "    time1 = xr.DataArray(data=timevp, dims=[\"time\"])\n",
    "    time1.name = \"time\"\n",
    "    # We rename the time dimension and coordinate to time360 to make it clear it isn't\n",
    "    # the original time coordinate.\n",
    "    val = val.rename({\"time\": \"timepd\"})\n",
    "    time1 = time1.rename({\"time\": \"timepd\"})\n",
    "    val = val.assign_coords({\"timepd\": time1})\n",
    "\n",
    "    return val"
   ]
  },
  {
   "cell_type": "markdown",
   "metadata": {},
   "source": [
    "### Align calendars of all input data"
   ]
  },
  {
   "cell_type": "code",
   "execution_count": 11,
   "metadata": {},
   "outputs": [],
   "source": [
    "# Convert all calendars to annual precision (we have configured icclim to output yearly data)\n",
    "ll = [to_pandas_dt(da) for da in tg]\n",
    "llp = [to_pandas_dt(da) for da in pr]\n",
    "ll_hist = [to_pandas_dt(da) for da in tg_hist]\n",
    "llp_hist = [to_pandas_dt(da) for da in pr_hist]\n",
    "\n",
    "# Concatenate all models into one\n",
    "full_tg = xr.concat(ll, \"model_id\", join=\"outer\")\n",
    "full_pr = xr.concat(llp, \"model_id\", join=\"outer\")\n",
    "full_tg_hist = xr.concat(ll_hist, \"model_id\", join=\"outer\")\n",
    "full_pr_hist = xr.concat(llp_hist, \"model_id\", join=\"outer\")\n",
    "full_tg_anomaly = full_tg.mean(dim=\"timepd\") - full_tg_hist.mean(dim=\"timepd\")\n",
    "full_pr_anomaly = (\n",
    "    (full_pr.mean(dim=\"timepd\") - full_pr_hist.mean(dim=\"timepd\"))\n",
    "    / full_pr.mean(dim=\"timepd\")\n",
    "    * 100.0\n",
    ")"
   ]
  },
  {
   "cell_type": "markdown",
   "metadata": {
    "tags": []
   },
   "source": [
    "### Plot a multi-model scatter plot of the anomalies of temperature and precipitation of the future time period 2081-2100 SSP 585 compared to the historical period\n",
    "\n",
    "Temperature and Precipitation anomalies for SSP585 of the period 2080-2100 vs 1981-2000."
   ]
  },
  {
   "cell_type": "code",
   "execution_count": 28,
   "metadata": {},
   "outputs": [
    {
     "data": {
      "text/plain": [
       "Text(0.5, 0, 'Temperature Anomaly K')"
      ]
     },
     "execution_count": 28,
     "metadata": {},
     "output_type": "execute_result"
    },
    {
     "data": {
      "image/png": "[encoded data removed]",
      "text/plain": [
       "<Figure size 640x480 with 2 Axes>"
      ]
     },
     "metadata": {},
     "output_type": "display_data"
    }
   ],
   "source": [
    "# Plot deltaT-deltaP diagram\n",
    "\n",
    "# To use xarray scatter plot, create a new Dataset using both DataArrays\n",
    "ds_anomaly = xr.Dataset({\"TG\": full_tg_anomaly, \"PRCPTOT\": full_pr_anomaly})\n",
    "\n",
    "# Scatter Plot\n",
    "xr.plot.scatter(ds_anomaly, x=\"TG\", y=\"PRCPTOT\", hue=\"model_id\")\n",
    "plt.suptitle(\n",
    "    \"DeltaT-DeltaP Diagram  \"\n",
    "    + str(yearb)\n",
    "    + \"-\"\n",
    "    + str(yeare)\n",
    "    + \" vs \"\n",
    "    + str(yearrefb)\n",
    "    + \"-\"\n",
    "    + str(yearrefe)\n",
    ")\n",
    "plt.title(\n",
    "    \"Domain: lat=[\"\n",
    "    + str(minlat)\n",
    "    + \", \"\n",
    "    + str(maxlat)\n",
    "    + \"] lon=[\"\n",
    "    + str(minlon)\n",
    "    + \", \"\n",
    "    + str(maxlon)\n",
    "    + \"]\"\n",
    ")\n",
    "plt.ylabel(\"Precipitation Anomaly %\")\n",
    "plt.xlabel(\"Temperature Anomaly K\")"
   ]
  }
 ],
 "metadata": {
  "kernelspec": {
   "display_name": "Python 3 (ipykernel)",
   "language": "python",
   "name": "python3"
  },
  "language_info": {
   "codemirror_mode": {
    "name": "ipython",
    "version": 3
   },
   "file_extension": ".py",
   "mimetype": "text/x-python",
   "name": "python",
   "nbconvert_exporter": "python",
   "pygments_lexer": "ipython3",
   "version": "3.11.7"
  }
 },
 "nbformat": 4,
 "nbformat_minor": 4
}
